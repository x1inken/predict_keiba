{
 "cells": [
  {
   "cell_type": "code",
   "execution_count": null,
   "id": "japanese-church",
   "metadata": {},
   "outputs": [],
   "source": [
    "from sqlalchemy import create_engine\n",
    "from sklearn.model_selection import train_test_split\n",
    "from sklearn.linear_model import LogisticRegression\n",
    "from sklearn.preprocessing import StandardScaler\n",
    "import pandas as pd"
   ]
  },
  {
   "cell_type": "code",
   "execution_count": null,
   "id": "another-summary",
   "metadata": {},
   "outputs": [],
   "source": [
    "# データベースに接続\n",
    "engine = create_engine('mysql+mysqlconnector://root@localhost/jra?charset=utf8')"
   ]
  },
  {
   "cell_type": "code",
   "execution_count": null,
   "id": "strategic-ladder",
   "metadata": {},
   "outputs": [],
   "source": [
    "# 学習用データ取得SQL\n",
    "\n",
    "learnsql = '''\n",
    "    \n",
    "select \n",
    "\tcast(KakuteiJyuni as signed) as junni,\n",
    "\tcast(Umaban as signed) as umaban,\n",
    "\tcase when cast(Umaban as signed) <= 3 then 1 else 0 end as inside,\n",
    "\tcase when cast(Umaban as signed) >= 10 then 1 else 0 end as outside,\n",
    "\tcase when ZogenFugo = '' then '=' else ZogenFugo end as fugo,\n",
    "\t1-(cast(ZogenSa as signed) / cast(BaTaijyu as signed)) as sapoint,\n",
    "    cast(Ninki as signed) as Ninki\n",
    "FROM\n",
    "\tn_uma_race\n",
    "where\n",
    "\tKakuteiJyuni != '00'\n",
    "and\n",
    "\tOdds != '0000'\n",
    "and \n",
    "\tZogenSa != ''\n",
    "order by\n",
    "\tYear desc,\n",
    "\tMonthDay desc\n",
    "\n",
    "\n",
    "'''\n",
    "df = pd.read_sql_query(learnsql, engine)"
   ]
  },
  {
   "cell_type": "code",
   "execution_count": null,
   "id": "legal-whale",
   "metadata": {},
   "outputs": [],
   "source": [
    "# 欠損値の削除\n",
    "df.dropna(how='any', inplace=True)"
   ]
  },
  {
   "cell_type": "code",
   "execution_count": null,
   "id": "steady-second",
   "metadata": {},
   "outputs": [],
   "source": [
    "# 3着以内フラグのカラムを追加\n",
    "cf = lambda x: 1 if x in[1,2,3] else 0\n",
    "df['3着以内'] = df['junni'].map(cf)"
   ]
  },
  {
   "cell_type": "code",
   "execution_count": null,
   "id": "light-hierarchy",
   "metadata": {},
   "outputs": [],
   "source": [
    "# 増減符号をダミー変数化\n",
    "df = pd.get_dummies(df,columns=['fugo'])"
   ]
  },
  {
   "cell_type": "code",
   "execution_count": null,
   "id": "funky-slide",
   "metadata": {},
   "outputs": [],
   "source": [
    "# 学習に必要じゃないデータを削除\n",
    "df.drop(['junni','umaban','fugo_-','fugo_='],axis=1, inplace=True)"
   ]
  },
  {
   "cell_type": "code",
   "execution_count": null,
   "id": "accessible-prisoner",
   "metadata": {},
   "outputs": [],
   "source": [
    "# 説明変数のdataframe\n",
    "X = df.drop(['3着以内'], axis=1)"
   ]
  },
  {
   "cell_type": "code",
   "execution_count": null,
   "id": "unauthorized-martin",
   "metadata": {},
   "outputs": [],
   "source": [
    "# 目的変数のdataframe\n",
    "Y = df['3着以内']"
   ]
  },
  {
   "cell_type": "code",
   "execution_count": null,
   "id": "wound-kitchen",
   "metadata": {},
   "outputs": [],
   "source": [
    "# データを学習用データと検証・テストデータに分ける\n",
    "X_train, X_test, y_train, y_test = train_test_split(X,Y ,test_size=0.2, stratify=Y)"
   ]
  },
  {
   "cell_type": "code",
   "execution_count": null,
   "id": "surrounded-judges",
   "metadata": {},
   "outputs": [],
   "source": [
    "# 標準化関数\n",
    "stdsc = StandardScaler()"
   ]
  },
  {
   "cell_type": "code",
   "execution_count": null,
   "id": "associate-emperor",
   "metadata": {},
   "outputs": [],
   "source": [
    "# 学習データを標準化\n",
    "X_train_std = stdsc.fit_transform(X_train)"
   ]
  },
  {
   "cell_type": "code",
   "execution_count": null,
   "id": "oriental-substitute",
   "metadata": {},
   "outputs": [],
   "source": [
    "# 学習データからテストデータを標準化\n",
    "X_test_std = stdsc.transform(X_test)"
   ]
  },
  {
   "cell_type": "code",
   "execution_count": null,
   "id": "controlled-librarian",
   "metadata": {},
   "outputs": [],
   "source": [
    "# ロジスティック回帰で学習\n",
    "clf = LogisticRegression()\n",
    "clf.fit(X_train_std, y_train)"
   ]
  },
  {
   "cell_type": "code",
   "execution_count": null,
   "id": "finished-raleigh",
   "metadata": {},
   "outputs": [],
   "source": [
    "# 変数の寄与度を見る\n",
    "clf.score(X_train_std,y_train)\n",
    "clf_df = pd.DataFrame([X_train.columns, clf.coef_[0]]).T"
   ]
  },
  {
   "cell_type": "code",
   "execution_count": null,
   "id": "developmental-replication",
   "metadata": {},
   "outputs": [],
   "source": [
    "# テストデータを予測\n",
    "x_pred = clf.predict(X_test_std)"
   ]
  },
  {
   "cell_type": "code",
   "execution_count": null,
   "id": "advisory-disorder",
   "metadata": {},
   "outputs": [],
   "source": [
    "# モデルの精度を見る\n",
    "from sklearn.metrics import confusion_matrix, accuracy_score, precision_score, recall_score, f1_score"
   ]
  },
  {
   "cell_type": "code",
   "execution_count": null,
   "id": "organizational-attitude",
   "metadata": {},
   "outputs": [],
   "source": [
    "# 分類したマトリクス\n",
    "print('confusion matrix = \\n', confusion_matrix(y_test, x_pred))"
   ]
  },
  {
   "cell_type": "code",
   "execution_count": null,
   "id": "collected-grenada",
   "metadata": {},
   "outputs": [],
   "source": [
    "# 正解率\n",
    "print('accuracy = ', accuracy_score(y_test, x_pred))"
   ]
  },
  {
   "cell_type": "code",
   "execution_count": null,
   "id": "defensive-runner",
   "metadata": {},
   "outputs": [],
   "source": [
    "# 適合率\n",
    "print('precision = ', precision_score(y_test, x_pred))"
   ]
  },
  {
   "cell_type": "code",
   "execution_count": null,
   "id": "agreed-sodium",
   "metadata": {},
   "outputs": [],
   "source": [
    "# 再現率\n",
    "print('recall = ', recall_score(y_test, x_pred))"
   ]
  },
  {
   "cell_type": "code",
   "execution_count": null,
   "id": "quantitative-ecuador",
   "metadata": {},
   "outputs": [],
   "source": [
    "# F1値\n",
    "print('f1 = ', f1_score(y_test, x_pred))"
   ]
  },
  {
   "cell_type": "code",
   "execution_count": null,
   "id": "alike-hospital",
   "metadata": {},
   "outputs": [],
   "source": [
    "# 学習データの結果を見る\n",
    "pred = pd.Series(x_pred, index=X_test.index, name='3着以内')\n",
    "result = pd.concat([pred, X_test], axis=1)"
   ]
  },
  {
   "cell_type": "code",
   "execution_count": null,
   "id": "blind-cutting",
   "metadata": {},
   "outputs": [],
   "source": [
    "# 実際の予測"
   ]
  },
  {
   "cell_type": "code",
   "execution_count": null,
   "id": "controlling-vermont",
   "metadata": {},
   "outputs": [],
   "source": [
    "# 中山記念の出走馬取得\n",
    "sql_pred = '''\n",
    "\n",
    "select \n",
    "\tcast(KakuteiJyuni as signed) as junni,\n",
    "\tcast(Umaban as signed) as umaban,\n",
    "\tcase when cast(Umaban as signed) <= 3 then 1 else 0 end as inside,\n",
    "\tcase when cast(Umaban as signed) >= 10 then 1 else 0 end as outside,\n",
    "\tcase when ZogenFugo = '' then '=' else ZogenFugo end as fugo,\n",
    "\t1-(cast(ZogenSa as signed) / cast(BaTaijyu as signed)) as sapoint,\n",
    "\tcast(Ninki as signed) as Ninki\n",
    "FROM\n",
    "\tn_uma_race\n",
    "where\n",
    " Year = '2021' and MonthDay = '0228'\n",
    "and\n",
    " JyoCD = '06' and RaceNum = '11'\n",
    "order by\n",
    " Umaban;\n",
    "\n",
    "'''\n",
    "df_pred = pd.read_sql_query(sql_pred, engine)"
   ]
  },
  {
   "cell_type": "code",
   "execution_count": null,
   "id": "advance-giant",
   "metadata": {},
   "outputs": [],
   "source": [
    "# ダミー変数化\n",
    "df_pred = pd.get_dummies(df_pred, columns=['fugo'])\n",
    "\n",
    "# 説明変数のdataframe\n",
    "Xp = df_pred.drop(['junni','umaban','fugo_-','fugo_='],axis=1)\n"
   ]
  },
  {
   "cell_type": "code",
   "execution_count": null,
   "id": "endangered-bernard",
   "metadata": {},
   "outputs": [],
   "source": [
    "# 標準化\n",
    "Xp_std = stdsc.transform(Xp)"
   ]
  },
  {
   "cell_type": "code",
   "execution_count": null,
   "id": "loose-intelligence",
   "metadata": {},
   "outputs": [],
   "source": [
    "# 予測\n",
    "x_pred = clf.predict(Xp_std)\n",
    "\n",
    "# 結果を見やすいように整形\n",
    "pred = pd.Series(x_pred, index=df_pred.index, name='3着以内')\n",
    "result = pd.concat([pred, df_pred], axis=1)"
   ]
  },
  {
   "cell_type": "code",
   "execution_count": null,
   "id": "square-calcium",
   "metadata": {},
   "outputs": [],
   "source": [
    "result"
   ]
  },
  {
   "cell_type": "code",
   "execution_count": null,
   "id": "global-weight",
   "metadata": {},
   "outputs": [],
   "source": []
  }
 ],
 "metadata": {
  "kernelspec": {
   "display_name": "Python 3",
   "language": "python",
   "name": "python3"
  },
  "language_info": {
   "codemirror_mode": {
    "name": "ipython",
    "version": 3
   },
   "file_extension": ".py",
   "mimetype": "text/x-python",
   "name": "python",
   "nbconvert_exporter": "python",
   "pygments_lexer": "ipython3",
   "version": "3.7.10"
  }
 },
 "nbformat": 4,
 "nbformat_minor": 5
}
